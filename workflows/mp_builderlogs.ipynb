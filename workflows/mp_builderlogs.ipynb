{
 "cells": [
  {
   "cell_type": "code",
   "execution_count": 1,
   "metadata": {
    "collapsed": true
   },
   "outputs": [],
   "source": [
    "import os, glob"
   ]
  },
  {
   "cell_type": "code",
   "execution_count": 2,
   "metadata": {
    "collapsed": true
   },
   "outputs": [],
   "source": [
    "# Set the locations of log files on remote host and where to store them locally. \\\n",
    "# hosthame must be defined in .ssh/config.\n",
    "REMOTE_LOGS = '/global/projecta/projectdirs/matgen/builder_logs/'\n",
    "LOCAL_LOGS = '/Users/aykol/tmp_builderlogs/'\n",
    "hostname = 'matgen'"
   ]
  },
  {
   "cell_type": "code",
   "execution_count": 3,
   "metadata": {
    "collapsed": false
   },
   "outputs": [],
   "source": [
    "def get_logs(sync_logs, hostname, remote_logdir, local_logdir):\n",
    "    \"\"\"\n",
    "    ryncs logs from an external host to a specified location in the local machine.\n",
    "    Args:\n",
    "        - snync_logs  (list) or (str): types of logs to sync to local filesystem.\n",
    "                  options are 'phasediagram', 'substrate', 'reject', 'electronic', 'material', \n",
    "                  diffraction', 'elasticity' and 'initializer'.\n",
    "                  If only 'all' is given, it will sync all possible types of logs.\n",
    "        - hostname: ssh host info in .ssh/config\n",
    "        - remote_logdir: path to log dir at remote host\n",
    "        - local_logdir: path to log dire on the current filesystem. Will be created if not exist.\n",
    "    \"\"\"\n",
    "    \n",
    "    log_options = {\"material\": \"*IncrMaterialBuild*\", \"substrate\": \"*substrate*\", \n",
    "                   \"elasticity\": \"*Elasticity*\", \"phasediagram\": \"*IncrPhaseDiagram*\",\n",
    "                   \"diffraction\": \"*IncrDiffract*\", \"electronic\": \"*IncrElectronicS*\",\n",
    "                   \"initializer\": \"*Incr_initializer*\", \"reject\": \"*Incr_reject*\"\n",
    "                  }\n",
    "    if sync_logs == 'all':\n",
    "        sync_logs = log_options.keys()\n",
    "    sync_command = ['rsync', '-av']\n",
    "    if not isinstance(sync_logs, list):\n",
    "        sync_logs=[sync_logs]\n",
    "    for i in sync_logs:\n",
    "        if i in log_options:\n",
    "            sync_command.append('--include=\"{}\"'.format(log_options[i]))\n",
    "        else:\n",
    "            raise ValueError(\"{} is not a valid builder log. Sync stopped.\".format(i))\n",
    "    sync_command.append('--exclude=\"*\"')\n",
    "    sync_command.append(\"{}:{}\".format(hostname,remote_logdir))\n",
    "    \n",
    "    if not os.path.exists(local_logdir):\n",
    "        os.makedirs(local_logdir)\n",
    "    sync_command.append(local_logdir)\n",
    "    os.system(\" \".join(sync_command))"
   ]
  },
  {
   "cell_type": "code",
   "execution_count": 4,
   "metadata": {
    "collapsed": false
   },
   "outputs": [],
   "source": [
    "def parse_logs(parse_logs, local_logdir):\n",
    "    log_options = {\"material\": \"*IncrMaterialBuild*\", \"substrate\": \"*substrate*\", \n",
    "                   \"elasticity\": \"*Elasticity*\", \"phasediagram\": \"*IncrPhaseDiagram*\",\n",
    "                   \"diffraction\": \"*IncrDiffract*\", \"electronic\": \"*IncrElectronicS*\",\n",
    "                   \"initializer\": \"*Incr_initializer*\", \"reject\": \"*Incr_reject*\"\n",
    "                  }\n",
    "    if parse_logs == 'all':\n",
    "        parse_logs = log_options.keys()\n",
    "    if not isinstance(parse_logs, list):\n",
    "        parse_logs=[parse_logs]\n",
    "    \n",
    "    parsed_messages = {}\n",
    "    \n",
    "    for log_type in parse_logs:\n",
    "        \n",
    "        parsed_messages[log_type] = {}\n",
    "        log_files = glob.glob(os.path.join(local_logdir, log_options[log_type]))\n",
    "        for fp in log_files:\n",
    "            with open(fp, 'r') as f:\n",
    "                for line in f.readlines():\n",
    "                    l = line.split()\n",
    "                    if l[2]==\"ERROR\":\n",
    "                        message = ' '.join(l[3:])\n",
    "                    else:\n",
    "                        continue\n",
    "                    time = '_'.join(l[:2])\n",
    "                    key = None\n",
    "                    for z in range(3, len(l)):\n",
    "                        if ('mp-' in l[z]) or ('task' in l[z]):\n",
    "                            key = '_'.join(l[3:z])\n",
    "                            break\n",
    "                    if not key:\n",
    "                        z = 6   \n",
    "                        key = '_'.join(l[3:6])\n",
    "                    message = '_'.join(l[z:])\n",
    "                    if key not in parsed_messages[log_type]:\n",
    "                        parsed_messages[log_type][key] = [[message, time]]\n",
    "                    else:\n",
    "                        parsed_messages[log_type][key].append([message, time]) \n",
    "    return parsed_messages"
   ]
  },
  {
   "cell_type": "code",
   "execution_count": 5,
   "metadata": {
    "collapsed": false
   },
   "outputs": [],
   "source": [
    "# Syncs specified typed of logs. 'all' syncs everything.\n",
    "# This will take a while when done for the first time.\n",
    "get_logs('all', hostname, REMOTE_LOGS, LOCAL_LOGS)"
   ]
  },
  {
   "cell_type": "code",
   "execution_count": 6,
   "metadata": {
    "collapsed": false,
    "scrolled": false
   },
   "outputs": [],
   "source": [
    "# Parser currently extracts ERRORs only. More detailed parsing is underway.\n",
    "# Again can take a particular list of log types, or 'all' as input\n",
    "p = parse_logs('all', LOCAL_LOGS)"
   ]
  },
  {
   "cell_type": "code",
   "execution_count": 7,
   "metadata": {
    "collapsed": false
   },
   "outputs": [
    {
     "data": {
      "text/plain": [
       "['phasediagram',\n",
       " 'substrate',\n",
       " 'material',\n",
       " 'diffraction',\n",
       " 'elasticity',\n",
       " 'initializer',\n",
       " 'reject',\n",
       " 'electronic']"
      ]
     },
     "execution_count": 7,
     "metadata": {},
     "output_type": "execute_result"
    }
   ],
   "source": [
    "p.keys()"
   ]
  },
  {
   "cell_type": "code",
   "execution_count": 8,
   "metadata": {
    "collapsed": false,
    "scrolled": true
   },
   "outputs": [
    {
     "name": "stdout",
     "output_type": "stream",
     "text": [
      "('phasediagram', 'Unable_to_process', 9402)\n",
      "('diffraction', 'Unable_to_import', 182259)\n",
      "('initializer', 'Unable_to_process', 162880)\n",
      "('electronic', 'Unable_to_insert_electronic_structure_for', 1436)\n",
      "('electronic', 'Unable_to_get_electronic_structure_for', 433170)\n"
     ]
    }
   ],
   "source": [
    "for k,v in p.items():\n",
    "    for i in v:\n",
    "        print(k, i, len(v[i]))"
   ]
  },
  {
   "cell_type": "code",
   "execution_count": 9,
   "metadata": {
    "collapsed": false
   },
   "outputs": [
    {
     "name": "stdout",
     "output_type": "stream",
     "text": [
      "['Mg-Hg-Pm:_None', '2016-09-09_12:51:54,500']\n"
     ]
    }
   ],
   "source": [
    "print(p['phasediagram']['Unable_to_process'][-1])"
   ]
  },
  {
   "cell_type": "code",
   "execution_count": 10,
   "metadata": {
    "collapsed": false
   },
   "outputs": [
    {
     "name": "stdout",
     "output_type": "stream",
     "text": [
      "['task_id_mp-601438_due_to_SymmetryFinder', '2017-02-05_06:08:07,665']\n"
     ]
    }
   ],
   "source": [
    "print(p['diffraction']['Unable_to_import'][-1])"
   ]
  },
  {
   "cell_type": "code",
   "execution_count": 11,
   "metadata": {
    "collapsed": false
   },
   "outputs": [
    {
     "name": "stdout",
     "output_type": "stream",
     "text": [
      "[\"task_id_mp-867512_for_GGA_Uniform_v2_due_to_error_'BSON_document_too_large_(181426513_bytes)_-_the_connected_server_supports_BSON_document_sizes_up_to_16793598_bytes.'\", '2017-02-05_07:05:30,229']\n"
     ]
    }
   ],
   "source": [
    "print(p['electronic']['Unable_to_insert_electronic_structure_for'][-1])"
   ]
  },
  {
   "cell_type": "code",
   "execution_count": 12,
   "metadata": {
    "collapsed": false
   },
   "outputs": [
    {
     "name": "stdout",
     "output_type": "stream",
     "text": [
      "[\"task_id_mp-988137_for_GGA_Uniform_v2_due_to_error_''dos_fs_id''\", '2017-02-05_07:05:02,975']\n"
     ]
    }
   ],
   "source": [
    "print(p['electronic']['Unable_to_get_electronic_structure_for'][-1])"
   ]
  },
  {
   "cell_type": "code",
   "execution_count": null,
   "metadata": {
    "collapsed": true
   },
   "outputs": [],
   "source": []
  }
 ],
 "metadata": {
  "kernelspec": {
   "display_name": "Python 2",
   "language": "python",
   "name": "python2"
  },
  "language_info": {
   "codemirror_mode": {
    "name": "ipython",
    "version": 2
   },
   "file_extension": ".py",
   "mimetype": "text/x-python",
   "name": "python",
   "nbconvert_exporter": "python",
   "pygments_lexer": "ipython2",
   "version": "2.7.10"
  }
 },
 "nbformat": 4,
 "nbformat_minor": 2
}
