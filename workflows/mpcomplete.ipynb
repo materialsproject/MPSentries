{
 "cells": [
  {
   "cell_type": "markdown",
   "metadata": {},
   "source": [
    "# Set DB connections"
   ]
  },
  {
   "cell_type": "code",
   "execution_count": null,
   "metadata": {
    "collapsed": true
   },
   "outputs": [],
   "source": [
    "from pymongo import MongoClient"
   ]
  },
  {
   "cell_type": "code",
   "execution_count": null,
   "metadata": {
    "collapsed": false
   },
   "outputs": [],
   "source": [
    "# this needs to be done with config files or better a general db management class (talk to Donny)\n",
    "conn = MongoClient('localhost', 57001, j=False)\n",
    "db_sp = conn['...']\n",
    "db_sp.authenticate('...')\n",
    "db_sp.jobs.count()\n",
    "conn4 = MongoClient('localhost', 57004, j=False)\n",
    "db_jp = conn4['...']\n",
    "db_jp.authenticate('...')\n",
    "db_jp.materials.count()"
   ]
  },
  {
   "cell_type": "markdown",
   "metadata": {},
   "source": [
    "# Set time interval of interest"
   ]
  },
  {
   "cell_type": "code",
   "execution_count": null,
   "metadata": {
    "collapsed": false
   },
   "outputs": [],
   "source": [
    "from datetime import datetime\n",
    "from collections import OrderedDict\n",
    "import pytz, calendar\n",
    "from bson.objectid import ObjectId\n",
    "\n",
    "pacific = pytz.timezone('US/Pacific')\n",
    "months = OrderedDict()\n",
    "months['2014-0'] = ( # aggregate all users before operating time as offset\n",
    "    ObjectId.from_datetime(\n",
    "        pacific.localize(datetime(2014,1,1))\n",
    "    ),\n",
    "    ObjectId.from_datetime(\n",
    "        pacific.localize(datetime(2014,12,31,23,59,59,999999))\n",
    "    )\n",
    ")\n",
    "for year in [2015, 2016]: # operating time of MPComplete\n",
    "    for month in range(1, 13):\n",
    "        last_day = calendar.monthrange(year,month)[1]\n",
    "        dt_start = pacific.localize(datetime(year,month,1,0,0,0,0))\n",
    "        dt_end = pacific.localize(datetime(year,month,last_day,23,59,59,999999))\n",
    "        months['{}-{}'.format(year, month)] = (\n",
    "            ObjectId.from_datetime(dt_start),\n",
    "            ObjectId.from_datetime(dt_end)\n",
    "        )\n",
    "print months.keys()"
   ]
  },
  {
   "cell_type": "markdown",
   "metadata": {},
   "source": [
    "# Unique gateway users during time interval"
   ]
  },
  {
   "cell_type": "code",
   "execution_count": null,
   "metadata": {
    "collapsed": false
   },
   "outputs": [],
   "source": [
    "from collections import Counter\n",
    "# import plotly.plotly as py\n",
    "# import plotly.graph_objs as go"
   ]
  },
  {
   "cell_type": "code",
   "execution_count": null,
   "metadata": {
    "collapsed": false
   },
   "outputs": [],
   "source": [
    "users = set() # keep track of user emails up to and including previous month\n",
    "gateway_users = Counter()\n",
    "gateway_users_month = OrderedDict()\n",
    "gateway_new_users_month = OrderedDict()\n",
    "submissions_month = OrderedDict()\n",
    "pauling_file_submissions_month = OrderedDict()\n",
    "\n",
    "for month,interval in months.iteritems():\n",
    "    gateway_users_month[month] = Counter()\n",
    "    gateway_new_users_month[month] = Counter()\n",
    "    pauling_file_submissions_month[month] = Counter()\n",
    "    submissions_month[month] = OrderedDict()\n",
    "    submissions = list(db_sp.jobs.find(\n",
    "        {'about.remarks': 'MP user submission',\n",
    "         '_id': {'$gte': interval[0], '$lte': interval[1]}},\n",
    "        ['submitter_email', 'about.authors', 'state', 'submitted_at']))\n",
    "    for s in submissions:\n",
    "        author_emails = [a['email'] for a in s['about']['authors']]\n",
    "        email = s['submitter_email'] if s['submitter_email'] in author_emails else author_emails[0]\n",
    "        if email == 'sbajaj@lbl.gov':\n",
    "            pauling_file_submissions_month[month][s['state']] += 1\n",
    "            continue # skip Pauling File submissions\n",
    "        if email not in submissions_month[month]:\n",
    "            submissions_month[month][email] = Counter()\n",
    "        submissions_month[month][email][s['state']] += 1\n",
    "        gateway_users[email] += 1\n",
    "        gateway_users_month[month][email] += 1 # all monthly users, all submissions\n",
    "        if email not in users:\n",
    "            gateway_new_users_month[month][email] += 1 # only new monthly users and their submissions\n",
    "    users.update(gateway_users.keys())"
   ]
  },
  {
   "cell_type": "code",
   "execution_count": null,
   "metadata": {
    "collapsed": false
   },
   "outputs": [],
   "source": [
    "monat, jahr = 10, 2016\n",
    "\n",
    "print 'Since 2014-01-01, a total of', len(gateway_users), 'users submitted', \\\n",
    "    sum(gateway_users.values()), 'possibly duplicate structures.',\n",
    "\n",
    "gateway_users_year = Counter()\n",
    "for month, emails in gateway_users_month.items():\n",
    "    y, m = map(int, month.split('-'))\n",
    "    if y < jahr or m < monat-1:\n",
    "        continue\n",
    "    print y, m\n",
    "    for email, nsubs in emails.items():\n",
    "        gateway_users_year[email] += nsubs\n",
    "\n",
    "returning_gateway_users_fraction = 0\n",
    "for email, nsubs in gateway_users_year.items():\n",
    "    returning_gateway_users_fraction += int(nsubs > 1)\n",
    "returning_gateway_users_fraction /= float(len(gateway_users_year))\n",
    "\n",
    "print 'After', '{}-{}'.format(monat, jahr), 'alone,', 'Z={}'.format(len(gateway_users_year)), 'users submitted', \\\n",
    "    'Y={}'.format(sum(gateway_users_year.values())), 'of them.', \\\n",
    "    '{:.0f}%'.format(returning_gateway_users_fraction*100.), 'of users returned to submit more structures.',\n",
    "\n",
    "submissions_year = Counter()\n",
    "submissions_icsd_year = Counter()\n",
    "for month, emails in submissions_month.items():\n",
    "    if int(month.split('-')[0]) < year:\n",
    "        continue\n",
    "    for email, counter in emails.items():\n",
    "        submissions_year['COMPLETED'] += counter['COMPLETED']\n",
    "        submissions_year['READY/RUNNING'] += counter['READY'] + counter['RUNNING']\n",
    "        submissions_year['FIZZLED/ERROR'] += counter['FIZZLED'] + counter['ERROR']\n",
    "        submissions_year['REJECTED/DEFUSED'] += counter['REJECTED'] + counter['DEFUSED']\n",
    "        if email == 'w6ye@ucsd.edu':\n",
    "            submissions_icsd_year['COMPLETED'] += counter['COMPLETED']\n",
    "            submissions_icsd_year['READY/RUNNING'] += counter['READY'] + counter['RUNNING']\n",
    "            submissions_icsd_year['FIZZLED/ERROR'] += counter['FIZZLED'] + counter['ERROR']\n",
    "            submissions_icsd_year['REJECTED/DEFUSED'] += counter['REJECTED'] + counter['DEFUSED']\n",
    "    #print month, submissions_year['FIZZLED/ERROR'] # (2696-1118)/(6191*0.44) = 58%\n",
    "\n",
    "total_submissions = float(sum(submissions_year.values()))\n",
    "completed_submissions = submissions_year['COMPLETED']/total_submissions*100.\n",
    "ready_running_submissions = submissions_year['READY/RUNNING']/total_submissions*100.\n",
    "rejected_defused_submissions = submissions_year['REJECTED/DEFUSED']/total_submissions*100.\n",
    "errored_submissions = submissions_year['FIZZLED/ERROR']/total_submissions*100.\n",
    "\n",
    "print '{:.0f}% (X={}) of the {} submissions were successfully completed and ' \\\n",
    "      '{:.0f}% are waiting to continue or start. Only {:.0f}% were rejected and ' \\\n",
    "      '{:.0f}% failed.'.format(\n",
    "        completed_submissions, submissions_year['COMPLETED'], year, ready_running_submissions,\n",
    "        rejected_defused_submissions, errored_submissions\n",
    "    ),\n",
    "\n",
    "print 'These numbers include the {} ICSD submissions, {} of which were successfully completed and ' \\\n",
    "      '{} are waiting to continue or start ({} failed, {} rejected/defused).'.format(\n",
    "        sum(submissions_icsd_year.values()), submissions_icsd_year['COMPLETED'],\n",
    "        submissions_icsd_year['READY/RUNNING'], submissions_icsd_year['FIZZLED/ERROR'],\n",
    "        submissions_icsd_year['REJECTED/DEFUSED']\n",
    "    ), \n",
    "        \n",
    "\n",
    "pauling_file_submissions_year = Counter()\n",
    "for month, counter in pauling_file_submissions_month.items():\n",
    "    if int(month.split('-')[0]) < year:\n",
    "        continue\n",
    "    pauling_file_submissions_year['COMPLETED'] += counter['COMPLETED']\n",
    "    pauling_file_submissions_year['READY/RUNNING'] += counter['READY'] + counter['RUNNING']\n",
    "    pauling_file_submissions_year['FIZZLED/ERROR'] += counter['FIZZLED'] + counter['ERROR']\n",
    "    pauling_file_submissions_year['REJECTED/DEFUSED'] += counter['REJECTED'] + counter['DEFUSED']\n",
    "\n",
    "total_submissions = float(sum(pauling_file_submissions_year.values()))\n",
    "completed_submissions = pauling_file_submissions_year['COMPLETED']/total_submissions*100.\n",
    "ready_running_submissions = pauling_file_submissions_year['READY/RUNNING']/total_submissions*100.\n",
    "rejected_defused_submissions = pauling_file_submissions_year['REJECTED/DEFUSED']/total_submissions*100.\n",
    "errored_submissions = pauling_file_submissions_year['FIZZLED/ERROR']/total_submissions*100.\n",
    "\n",
    "print 'However, these numbers excludes the {} Pauling File submissions, ' \\\n",
    "      '{:.0f}% of which were successfully completed and ' \\\n",
    "      '{:.0f}% are waiting to continue or start ({:.0f}% failed).'.format(\n",
    "        int(total_submissions), completed_submissions, ready_running_submissions, errored_submissions\n",
    "    ),"
   ]
  },
  {
   "cell_type": "code",
   "execution_count": null,
   "metadata": {
    "collapsed": false
   },
   "outputs": [],
   "source": [
    "total_unique = 0\n",
    "tr_x, tr_y = [], [[], [], []]\n",
    "averages = OrderedDict()\n",
    "\n",
    "for month, new_users in gateway_new_users_month.items():\n",
    "    monthly_new = len(new_users)\n",
    "    total_unique += monthly_new\n",
    "    recurring_users = len(gateway_users_month[month]) - monthly_new\n",
    "    current_year = int(month.split('-')[0])\n",
    "    if current_year < 2015:\n",
    "        continue # don't show prior to start of operating time\n",
    "    tr_x.append(month)\n",
    "    tr_y[0].append(total_unique)\n",
    "    tr_y[1].append(monthly_new)\n",
    "    tr_y[2].append(recurring_users)\n",
    "    if not current_year in averages:\n",
    "        averages[current_year] = {'new': 0, 'recurring': 0}\n",
    "    averages[current_year]['new'] += monthly_new/12.\n",
    "    averages[current_year]['recurring'] += recurring_users/12.\n",
    "\n",
    "name = ['total users', 'new users', 'recurring users']\n",
    "for yr_idx, (yr, trcs) in enumerate(averages.items()):\n",
    "    for trc_idx, (trc_name, trc_avg) in enumerate(trcs.items()):\n",
    "        trc_avg_arr = [trc_avg]*12\n",
    "        if yr_idx == 0:        \n",
    "            tr_y.append(trc_avg_arr)\n",
    "            name.append('yearly averages')\n",
    "        else:\n",
    "            tr_y[trc_idx+3] += trc_avg_arr\n",
    "            \n",
    "data = [go.Scatter(\n",
    "        x=tr_x, y=t, name=name[i], mode='lines',\n",
    "        line=dict(color=('black'), dash='dot') if i > 2 else dict(),\n",
    "        showlegend=bool(i<4)\n",
    "    ) for i,t in enumerate(tr_y)\n",
    "]\n",
    "layout = dict(title = 'Growth in MPComplete Users', yaxis = dict(type='log'))\n",
    "fig = dict(data=data, layout=layout)\n",
    "py.iplot(fig, filename='mpcomplete-users')"
   ]
  },
  {
   "cell_type": "code",
   "execution_count": null,
   "metadata": {
    "collapsed": false
   },
   "outputs": [],
   "source": [
    "tr_x, tr_y = [], []\n",
    "corr_avg = {'numer': 0, 'denom': 0} # average number of submissions/month for months with <300 submissions\n",
    "for month, emails in submissions_month.items():\n",
    "    current_year = int(month.split('-')[0])\n",
    "    if current_year < 2015:\n",
    "        continue # don't show prior to start of operating time\n",
    "    nsubs = 0\n",
    "    for email, counter in emails.items():\n",
    "        nsubs += sum(counter.values())\n",
    "    tr_x.append(month)\n",
    "    tr_y.append(nsubs)\n",
    "    if nsubs < 300:\n",
    "        corr_avg['numer'] += nsubs\n",
    "        corr_avg['denom'] += 1\n",
    "\n",
    "print corr_avg['numer']/float(corr_avg['denom'])\n",
    "\n",
    "trace = go.Bar(x=tr_x, y=tr_y)\n",
    "layout = dict(title='Number of Submissions per Month', yaxis=dict(type='log', range=[0.5,3.5]))\n",
    "fig = dict(data=[trace], layout=layout)\n",
    "py.iplot(fig, filename='mpcomplete-submissions')"
   ]
  },
  {
   "cell_type": "markdown",
   "metadata": {},
   "source": [
    "# New materials built during time interval"
   ]
  },
  {
   "cell_type": "code",
   "execution_count": null,
   "metadata": {
    "collapsed": false
   },
   "outputs": [],
   "source": [
    "from toolz import concat, pluck"
   ]
  },
  {
   "cell_type": "code",
   "execution_count": null,
   "metadata": {
    "collapsed": false
   },
   "outputs": [],
   "source": [
    "oid_start = months['2016-1'][0]\n",
    "oid_end = months['2016-12'][1]\n",
    "submissions = list(db_sp.jobs.find(\n",
    "    {'about.remarks': 'MP user submission',\n",
    "     '_id': {'$gte': oid_start, '$lte': oid_end}},\n",
    "    ['task_dict']))\n",
    "print(len(submissions))\n",
    "task_ids = list(concat([d.values() for d in pluck('task_dict', submissions) if d]))\n",
    "print(len(task_ids))\n",
    "material_ids = list(pluck('task_id', db_jp.materials.find({\n",
    "     '_id': {'$gte': oid_start}, # sometimes documents are re-built, so no '$lte' spec here\n",
    "     'snl_final.about.remarks': 'MP user submission',\n",
    "     'task_ids': {'$in': task_ids}},\n",
    "     ['task_id'])))\n",
    "print(len(material_ids))"
   ]
  }
 ],
 "metadata": {
  "anaconda-cloud": {},
  "kernelspec": {
   "display_name": "Python [default]",
   "language": "python",
   "name": "python2"
  },
  "language_info": {
   "codemirror_mode": {
    "name": "ipython",
    "version": 2
   },
   "file_extension": ".py",
   "mimetype": "text/x-python",
   "name": "python",
   "nbconvert_exporter": "python",
   "pygments_lexer": "ipython2",
   "version": "2.7.12"
  }
 },
 "nbformat": 4,
 "nbformat_minor": 1
}
